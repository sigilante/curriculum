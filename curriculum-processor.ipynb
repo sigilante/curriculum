{
 "cells": [
  {
   "cell_type": "markdown",
   "id": "40c2d95b",
   "metadata": {},
   "source": [
    "# Visualizing Objectives\n",
    "\n",
    "\n",
    "\n",
    "Principles:\n",
    "\n",
    "1. Objective chains are directed and acyclic.\n",
    "\n",
    "2. Each node represents a discrete competency cluster.\n",
    "\n",
    "3. Each edge represents a dependency of one competency cluster on another.\n",
    "\n",
    "4. Competency clusters should be as coherent as possible.\n",
    "\n",
    "2. Edge chains should be independent.  I.e. one should not link to more than one previous node in a chain.  (One may link to both nodes in a forked chain.)\n",
    "    \n",
    "    For instance, if 303 depends on 170 and 190, but 190 depends on 170, then only 190 should be linked to 303.\n"
   ]
  },
  {
   "cell_type": "code",
   "execution_count": 13,
   "id": "e57d5aac",
   "metadata": {},
   "outputs": [],
   "source": [
    "# Load and clean CSV of nodes and descriptions.\n",
    "from csv import DictReader\n",
    "\n",
    "nodes = {}\n",
    "edges = {}\n",
    "with open('curr-raw.csv', 'r') as rawFile:\n",
    "    rawData = DictReader(rawFile)\n",
    "    \n",
    "    # Build nodes.\n",
    "    for line in rawData:\n",
    "        if line[\"Topic\"] in ['', 'Aggregate'] or line[\"Competency Cluster\"] in '': continue\n",
    "        nodes[line['#']] = f'{line[\"Topic\"]}: {line[\"Competency Cluster\"]}'\n",
    "        \n",
    "        if line['Antecedents'].strip() == '': continue\n",
    "        edges[line['#']] = []\n",
    "        ants = line['Antecedents'].split(',')\n",
    "        for ante in ants:\n",
    "            if line[\"Antecedents\"].strip() == '0': continue\n",
    "            edges[line['#']].append(ante.strip())\n",
    "            #print(line['#'], edges[line['#']])"
   ]
  },
  {
   "cell_type": "code",
   "execution_count": 14,
   "id": "ec86a33b",
   "metadata": {},
   "outputs": [],
   "source": [
    "import pygraphviz as pgv\n",
    "\n",
    "G = pgv.AGraph(edges, directed=True, rankdir=\"LR\")\n",
    "\n",
    "G.layout('dot')\n",
    "G.draw('curr.png')\n",
    "G.draw('curr.svg')"
   ]
  },
  {
   "cell_type": "code",
   "execution_count": 7,
   "id": "f6911450",
   "metadata": {},
   "outputs": [],
   "source": []
  },
  {
   "cell_type": "code",
   "execution_count": 9,
   "id": "0c600b64",
   "metadata": {},
   "outputs": [],
   "source": []
  },
  {
   "cell_type": "code",
   "execution_count": null,
   "id": "d130437c",
   "metadata": {},
   "outputs": [],
   "source": []
  }
 ],
 "metadata": {
  "kernelspec": {
   "display_name": "Python 3 (ipykernel)",
   "language": "python",
   "name": "python3"
  },
  "language_info": {
   "codemirror_mode": {
    "name": "ipython",
    "version": 3
   },
   "file_extension": ".py",
   "mimetype": "text/x-python",
   "name": "python",
   "nbconvert_exporter": "python",
   "pygments_lexer": "ipython3",
   "version": "3.9.7"
  }
 },
 "nbformat": 4,
 "nbformat_minor": 5
}
